{
 "cells": [
  {
   "cell_type": "code",
   "execution_count": null,
   "metadata": {},
   "outputs": [],
   "source": [
    "import cv2\n",
    "\n",
    "\n",
    "vidcap = cv2.VideoCapture('./파일경로/')\n",
    "count = 0 \n",
    "while (vidcap.isOpened()):\n",
    "    ret,image = vidcap.read()\n",
    "    \n",
    "    if(int(vidcap.get(1))% 60 == 0): \n",
    "        print('saved framenumber:' + str(int(vidcap.get(1))))\n",
    "        cv2.imwrite(\"../파일경로/%d.jpg\"% count , image)\n",
    "        print('saved frame%d.jpg' %count)\n",
    "        count += 1"
   ]
  }
 ],
 "metadata": {
  "kernelspec": {
   "display_name": "Python 3",
   "language": "python",
   "name": "python3"
  },
  "language_info": {
   "codemirror_mode": {
    "name": "ipython",
    "version": 3
   },
   "file_extension": ".py",
   "mimetype": "text/x-python",
   "name": "python",
   "nbconvert_exporter": "python",
   "pygments_lexer": "ipython3",
   "version": "3.8.5"
  }
 },
 "nbformat": 4,
 "nbformat_minor": 4
}
