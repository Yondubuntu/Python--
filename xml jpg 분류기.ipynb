{
 "cells": [
  {
   "cell_type": "code",
   "execution_count": null,
   "metadata": {},
   "outputs": [],
   "source": [
    "import os\n"
   ]
  },
  {
   "cell_type": "code",
   "execution_count": null,
   "metadata": {},
   "outputs": [],
   "source": [
    "print(os.getcwd())\n"
   ]
  },
  {
   "cell_type": "code",
   "execution_count": null,
   "metadata": {},
   "outputs": [],
   "source": [
    "for i in range(1000) :\n",
    "    if os.path.isfile(str(i)+\".jpg\"): \n",
    "        if not os.path.isfile(str(i)+\".xml\"):\n",
    "            os.remove (str(i)+\".jpg\")\n",
    "            print(\"파일존재\")\n",
    "    elif not os.path.isfile(  str(i)+ \".xml\"):\n",
    "        if os.path.isfile( str(i) + \".jpg\"):\n",
    "            os.remove (str(i)+\".jpg\")\n",
    "            print(\"파일 x\")"
   ]
  }
 ],
 "metadata": {
  "kernelspec": {
   "display_name": "Python 3",
   "language": "python",
   "name": "python3"
  },
  "language_info": {
   "codemirror_mode": {
    "name": "ipython",
    "version": 3
   },
   "file_extension": ".py",
   "mimetype": "text/x-python",
   "name": "python",
   "nbconvert_exporter": "python",
   "pygments_lexer": "ipython3",
   "version": "3.8.5"
  }
 },
 "nbformat": 4,
 "nbformat_minor": 4
}
